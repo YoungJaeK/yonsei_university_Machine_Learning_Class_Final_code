{
 "cells": [
  {
   "cell_type": "code",
   "execution_count": 1,
   "metadata": {},
   "outputs": [],
   "source": [
    "import os\n",
    "import torch\n",
    "import torchvision\n",
    "\n",
    "os.environ['CUDA_VISIBLE_DEVICES']='6'\n",
    "device = torch.device(\"cuda:0\" if torch.cuda.is_available() else \"cpu\")\n",
    "\n",
    "from torch import nn, optim\n",
    "from torch.nn import functional as F\n",
    "from torch.autograd import Variable\n",
    "\n",
    "from torchvision import models, datasets, transforms\n",
    "\n",
    "import json\n",
    "import datetime\n",
    "import statistics\n",
    "import numpy as np\n",
    "import matplotlib.pyplot as plt\n",
    "%matplotlib inline"
   ]
  },
  {
   "cell_type": "markdown",
   "metadata": {},
   "source": [
    "## endo - nl vs hc 2 classes"
   ]
  },
  {
   "cell_type": "code",
   "execution_count": 2,
   "metadata": {},
   "outputs": [],
   "source": [
    "# make a parameter\n",
    "NAME_OF_CLASS = ['normal_lgd','hgd_cancer'] # This name same with name of file\n",
    "JSON_PATH = '/disk1/yjkim/json/intestine/nlvshcc2json'\n",
    "\n",
    "BATCH_SIZE = 40\n",
    "WORKERS = 2\n",
    "IMG_SIZE = 224"
   ]
  },
  {
   "cell_type": "code",
   "execution_count": 6,
   "metadata": {},
   "outputs": [
    {
     "name": "stdout",
     "output_type": "stream",
     "text": [
      "Data Type: Image\n",
      "Data Type: Image\n"
     ]
    }
   ],
   "source": [
    "# dataset\n",
    "val_dataset = EndoDataset(DATA_PATH=JSON_PATH,IMAGE_SIZE = IMG_SIZE, split='val')\n",
    "test_dataset = EndoDataset(DATA_PATH=JSON_PATH,IMAGE_SIZE = IMG_SIZE, split='test')\n",
    "\n",
    "# dataloader\n",
    "\n",
    "val_loader = torch.utils.data.DataLoader(dataset = val_dataset, batch_size = BATCH_SIZE, shuffle = True, \n",
    "                                           num_workers = WORKERS, pin_memory = True)\n",
    "\n",
    "test_loader = torch.utils.data.DataLoader(dataset = test_dataset, batch_size = BATCH_SIZE, shuffle = True, \n",
    "                                           num_workers = WORKERS, pin_memory = True)\n"
   ]
  },
  {
   "cell_type": "code",
   "execution_count": 8,
   "metadata": {},
   "outputs": [
    {
     "name": "stdout",
     "output_type": "stream",
     "text": [
      "Test set\n",
      "+------------+------------+--------------+------------------+\n",
      "| normal_lgd | hgd_cancer | Average loss | Average Accuracy |\n",
      "+------------+------------+--------------+------------------+\n",
      "|    0.96    |    0.86    |   0.005648   |      91.14       |\n",
      "+------------+------------+--------------+------------------+\n",
      "show confusion matrix\n",
      "Confusion matrix, without Normalization\n"
     ]
    },
    {
     "data": {
      "image/png": "[encoded data removed]",
      "text/plain": [
       "<Figure size 432x288 with 2 Axes>"
      ]
     },
     "metadata": {
      "needs_background": "light"
     },
     "output_type": "display_data"
    }
   ],
   "source": [
    "ROOT_PATH = '/disk1/yjkim/jupyter/weight/intestine'\n",
    "MODEL_PATH = 'dens161'\n",
    "CLASS_PATH = 'nlvshc'\n",
    "NAME_PATH = '91.14_1.pt'\n",
    "\n",
    "\n",
    "PATH = os.path.join(ROOT_PATH,MODEL_PATH,CLASS_PATH,NAME_PATH)\n",
    "model = torch.load(PATH)\n",
    "\n",
    "# setting\n",
    "optimizer = optim.Adam(model.parameters(),lr = 0.000001)\n",
    "loss_func = nn.CrossEntropyLoss()\n",
    "\n",
    "test_eval = Evaluation(NAME_OF_CLASS,device)\n",
    "test_eval.test(model, loss_func, val_loader)\n",
    "test_eval.show_confusion_matrix()"
   ]
  },
  {
   "cell_type": "markdown",
   "metadata": {},
   "source": [
    "## endo - Front 2 classes"
   ]
  },
  {
   "cell_type": "code",
   "execution_count": 6,
   "metadata": {},
   "outputs": [],
   "source": [
    "# make a parameter\n",
    "NAME_OF_CLASS = ['normal','lgd'] # This name same with name of file\n",
    "JSON_PATH = '/disk1/yjkim/json/intestine/frontc2json'\n",
    "\n",
    "BATCH_SIZE = 40\n",
    "WORKERS = 2\n",
    "IMG_SIZE = 224"
   ]
  },
  {
   "cell_type": "code",
   "execution_count": 7,
   "metadata": {},
   "outputs": [
    {
     "name": "stdout",
     "output_type": "stream",
     "text": [
      "Data Type: Image\n"
     ]
    }
   ],
   "source": [
    "# dataset\n",
    "val_dataset = EndoDataset(DATA_PATH=JSON_PATH,IMAGE_SIZE = IMG_SIZE, split='val')\n",
    "test_dataset = EndoDataset(DATA_PATH=JSON_PATH,IMAGE_SIZE = IMG_SIZE, split='test')\n",
    "\n",
    "# dataloader\n",
    "\n",
    "val_loader = torch.utils.data.DataLoader(dataset = val_dataset, batch_size = BATCH_SIZE, shuffle = True, \n",
    "                                           num_workers = WORKERS, pin_memory = True)\n",
    "\n",
    "test_loader = torch.utils.data.DataLoader(dataset = test_dataset, batch_size = BATCH_SIZE, shuffle = True, \n",
    "                                           num_workers = WORKERS, pin_memory = True)\n"
   ]
  },
  {
   "cell_type": "code",
   "execution_count": null,
   "metadata": {},
   "outputs": [],
   "source": [
    "ROOT_PATH = '/disk1/yjkim/jupyter/weight/intestine'\n",
    "MODEL_PATH = 'dens161'\n",
    "CLASS_PATH = 'frontc2'\n",
    "NAME_PATH = '99.06_79.pt'\n",
    "\n",
    "\n",
    "PATH = os.path.join(ROOT_PATH,MODEL_PATH,CLASS_PATH,NAME_PATH)\n",
    "model = torch.load(PATH)\n",
    "\n",
    "# setting\n",
    "optimizer = optim.Adam(model.parameters(),lr = 0.000001)\n",
    "loss_func = nn.CrossEntropyLoss()\n",
    "\n",
    "test_eval = Evaluation(NAME_OF_CLASS,device)\n",
    "test_eval.test(model, loss_func, test_loader)\n",
    "test_eval.show_confusion_matrix()"
   ]
  },
  {
   "cell_type": "code",
   "execution_count": 8,
   "metadata": {},
   "outputs": [
    {
     "name": "stdout",
     "output_type": "stream",
     "text": [
      "Test set\n",
      "+--------+------+--------------+------------------+\n",
      "| normal | lgd  | Average loss | Average Accuracy |\n",
      "+--------+------+--------------+------------------+\n",
      "|  0.99  | 0.99 |   0.000416   |      99.25       |\n",
      "+--------+------+--------------+------------------+\n"
     ]
    }
   ],
   "source": []
  },
  {
   "cell_type": "markdown",
   "metadata": {},
   "source": [
    "## endo - last classes 2"
   ]
  },
  {
   "cell_type": "code",
   "execution_count": 10,
   "metadata": {},
   "outputs": [],
   "source": [
    "# make a parameter\n",
    "NAME_OF_CLASS = ['hgd','cancer'] # This name same with name of file\n",
    "JSON_PATH = '/disk1/yjkim/json/intestine/lastc2json'\n",
    "\n",
    "BATCH_SIZE = 40\n",
    "WORKERS = 2\n",
    "IMG_SIZE = 224"
   ]
  },
  {
   "cell_type": "code",
   "execution_count": 13,
   "metadata": {},
   "outputs": [
    {
     "name": "stdout",
     "output_type": "stream",
     "text": [
      "Data Type: Image\n",
      "Data Type: Image\n"
     ]
    }
   ],
   "source": [
    "# dataset\n",
    "test_dataset = EndoDataset(DATA_PATH=JSON_PATH,IMAGE_SIZE = IMG_SIZE, split='test')\n",
    "val_dataset = EndoDataset(DATA_PATH=JSON_PATH,IMAGE_SIZE = IMG_SIZE, split='val')\n",
    "\n",
    "test_loader = torch.utils.data.DataLoader(dataset = test_dataset, batch_size = BATCH_SIZE, shuffle = True, \n",
    "                                           num_workers = WORKERS, pin_memory = True)\n",
    "val_loader = torch.utils.data.DataLoader(dataset = val_dataset, batch_size = BATCH_SIZE, shuffle = True, \n",
    "                                           num_workers = WORKERS, pin_memory = True)\n"
   ]
  },
  {
   "cell_type": "code",
   "execution_count": 14,
   "metadata": {},
   "outputs": [
    {
     "name": "stdout",
     "output_type": "stream",
     "text": [
      "Test set\n",
      "+------+--------+--------------+------------------+\n",
      "| hgd  | cancer | Average loss | Average Accuracy |\n",
      "+------+--------+--------------+------------------+\n",
      "| 0.95 |  0.77  |   0.015626   |      85.77       |\n",
      "+------+--------+--------------+------------------+\n",
      "show confusion matrix\n",
      "Confusion matrix, without Normalization\n"
     ]
    },
    {
     "data": {
      "image/png": "[encoded data removed]",
      "text/plain": [
       "<Figure size 432x288 with 2 Axes>"
      ]
     },
     "metadata": {
      "needs_background": "light"
     },
     "output_type": "display_data"
    }
   ],
   "source": [
    "ROOT_PATH = '/disk1/yjkim/jupyter/weight/intestine'\n",
    "MODEL_PATH = 'dens161'\n",
    "CLASS_PATH = 'lastc2'\n",
    "NAME_PATH = '85.77_6.pt'\n",
    "\n",
    "\n",
    "PATH = os.path.join(ROOT_PATH,MODEL_PATH,CLASS_PATH,NAME_PATH)\n",
    "model = torch.load(PATH)\n",
    "\n",
    "# setting\n",
    "optimizer = optim.Adam(model.parameters(),lr = 0.000001)\n",
    "loss_func = nn.CrossEntropyLoss()\n",
    "\n",
    "test_eval = Evaluation(NAME_OF_CLASS,device)\n",
    "test_eval.test(model, loss_func, val_loader)\n",
    "test_eval.show_confusion_matrix()"
   ]
  },
  {
   "cell_type": "code",
   "execution_count": null,
   "metadata": {},
   "outputs": [],
   "source": []
  },
  {
   "cell_type": "code",
   "execution_count": null,
   "metadata": {},
   "outputs": [],
   "source": []
  },
  {
   "cell_type": "code",
   "execution_count": null,
   "metadata": {},
   "outputs": [],
   "source": []
  },
  {
   "cell_type": "code",
   "execution_count": null,
   "metadata": {},
   "outputs": [],
   "source": [
    "# make a parameter\n",
    "NAME_OF_CLASS = ['normal_lgd','hgd_cancer'] # This name same with name of file\n",
    "JSON_PATH = '/disk1/yjkim/json/intestine/c4json'\n",
    "\n",
    "BATCH_SIZE = 40\n",
    "WORKERS = 2\n",
    "IMG_SIZE = 224"
   ]
  },
  {
   "cell_type": "code",
   "execution_count": null,
   "metadata": {},
   "outputs": [],
   "source": []
  },
  {
   "cell_type": "code",
   "execution_count": null,
   "metadata": {},
   "outputs": [],
   "source": []
  },
  {
   "cell_type": "code",
   "execution_count": null,
   "metadata": {},
   "outputs": [],
   "source": []
  },
  {
   "cell_type": "code",
   "execution_count": null,
   "metadata": {},
   "outputs": [],
   "source": []
  },
  {
   "cell_type": "code",
   "execution_count": null,
   "metadata": {},
   "outputs": [],
   "source": []
  },
  {
   "cell_type": "markdown",
   "metadata": {},
   "source": [
    "## 4 Classes test dataset"
   ]
  },
  {
   "cell_type": "code",
   "execution_count": 2,
   "metadata": {},
   "outputs": [],
   "source": [
    "# make a parameter\n",
    "NAME_OF_CLASS = ['normal','lgd','hgd','cancer'] # This name same with name of file\n",
    "JSON_PATH = '/disk1/yjkim/json/intestine/c4json'\n",
    "\n",
    "BATCH_SIZE = 40\n",
    "WORKERS = 2\n",
    "IMG_SIZE = 224"
   ]
  },
  {
   "cell_type": "code",
   "execution_count": 23,
   "metadata": {},
   "outputs": [
    {
     "name": "stdout",
     "output_type": "stream",
     "text": [
      "Data Type: Image\n",
      "Data Type: Image\n"
     ]
    }
   ],
   "source": [
    "# dataset\n",
    "val_dataset = EndoDataset(DATA_PATH=JSON_PATH,IMAGE_SIZE = IMG_SIZE, split='val')\n",
    "test_dataset = EndoDataset(DATA_PATH=JSON_PATH,IMAGE_SIZE = IMG_SIZE, split='test')\n",
    "\n",
    "# dataloader\n",
    "\n",
    "val_loader = torch.utils.data.DataLoader(dataset = val_dataset, batch_size = BATCH_SIZE, shuffle = True, \n",
    "                                           num_workers = WORKERS, pin_memory = True)\n",
    "\n",
    "test_loader = torch.utils.data.DataLoader(dataset = test_dataset, batch_size = BATCH_SIZE, shuffle = True, \n",
    "                                           num_workers = WORKERS, pin_memory = True)\n"
   ]
  },
  {
   "cell_type": "code",
   "execution_count": 33,
   "metadata": {},
   "outputs": [
    {
     "name": "stdout",
     "output_type": "stream",
     "text": [
      "Test set\n",
      "+--------+------+------+--------+--------------+------------------+\n",
      "| normal | lgd  | hgd  | cancer | Average loss | Average Accuracy |\n",
      "+--------+------+------+--------+--------------+------------------+\n",
      "|  0.99  | 0.89 | 0.69 |  0.82  |   0.011317   |      84.67       |\n",
      "+--------+------+------+--------+--------------+------------------+\n"
     ]
    }
   ],
   "source": [
    "ROOT_PATH = '/disk1/yjkim/jupyter/weight/intestine'\n",
    "MODEL_PATH = 'hdcnn'\n",
    "CLASS_PATH = 'res50/2_fre_4'\n",
    "NAME_PATH = '84.76_13.pt'\n",
    "\n",
    "\n",
    "PATH = os.path.join(ROOT_PATH,MODEL_PATH,CLASS_PATH,NAME_PATH)\n",
    "model = torch.load(PATH)\n",
    "\n",
    "# setting\n",
    "optimizer = optim.Adam(model.parameters(),lr = 0.000001)\n",
    "loss_func = nn.CrossEntropyLoss()\n",
    "\n",
    "test_eval = Evaluation(NAME_OF_CLASS,device)\n",
    "test_eval.test(model, loss_func, test_loader)"
   ]
  },
  {
   "cell_type": "code",
   "execution_count": 34,
   "metadata": {},
   "outputs": [
    {
     "name": "stdout",
     "output_type": "stream",
     "text": [
      "show confusion matrix\n",
      "Confusion matrix, without Normalization\n"
     ]
    },
    {
     "data": {
      "image/png": "[encoded data removed]",
      "text/plain": [
       "<Figure size 432x288 with 2 Axes>"
      ]
     },
     "metadata": {
      "needs_background": "light"
     },
     "output_type": "display_data"
    }
   ],
   "source": [
    "test_eval.show_confusion_matrix()"
   ]
  },
  {
   "cell_type": "code",
   "execution_count": 39,
   "metadata": {},
   "outputs": [
    {
     "name": "stdout",
     "output_type": "stream",
     "text": [
      "0.9658536585365853\n",
      "0.8984771573604061\n",
      "0.6699029126213593\n",
      "0.8645833333333334\n",
      "0.8497042654629211\n"
     ]
    }
   ],
   "source": [
    "matrix = test_eval.cm\n",
    "num_ = []\n",
    "for idx, maxt in enumerate(matrix.T):\n",
    "    num_.append(maxt[idx]/sum(maxt))\n",
    "    print(maxt[idx]/sum(maxt))\n",
    "print(np.mean(num_))# precision"
   ]
  },
  {
   "cell_type": "code",
   "execution_count": 40,
   "metadata": {},
   "outputs": [
    {
     "data": {
      "text/plain": [
       "numpy.ndarray"
      ]
     },
     "execution_count": 40,
     "metadata": {},
     "output_type": "execute_result"
    }
   ],
   "source": [
    "type(matrix)"
   ]
  },
  {
   "cell_type": "code",
   "execution_count": 60,
   "metadata": {},
   "outputs": [
    {
     "name": "stdout",
     "output_type": "stream",
     "text": [
      "86.47733580018502\n"
     ]
    }
   ],
   "source": [
    "recall = 86\n",
    "prec = 86.96\n",
    "\n",
    "f1 = (2*recall*prec)/(recall+prec)\n",
    "print(f1)"
   ]
  },
  {
   "cell_type": "code",
   "execution_count": 61,
   "metadata": {},
   "outputs": [
    {
     "data": {
      "text/plain": [
       "85.0"
      ]
     },
     "execution_count": 61,
     "metadata": {},
     "output_type": "execute_result"
    }
   ],
   "source": [
    "(99+\n",
    "89+\n",
    "69+\n",
    "83)/4\n"
   ]
  },
  {
   "cell_type": "code",
   "execution_count": 63,
   "metadata": {},
   "outputs": [
    {
     "data": {
      "text/plain": [
       "81.6925"
      ]
     },
     "execution_count": 63,
     "metadata": {},
     "output_type": "execute_result"
    }
   ],
   "source": [
    "(99.5+\n",
    "91+\n",
    "64+\n",
    "72.27)/4\n"
   ]
  },
  {
   "cell_type": "code",
   "execution_count": 65,
   "metadata": {},
   "outputs": [
    {
     "data": {
      "text/plain": [
       "85.0"
      ]
     },
     "execution_count": 65,
     "metadata": {},
     "output_type": "execute_result"
    }
   ],
   "source": [
    "(99+\n",
    "89+\n",
    "69+\n",
    "83)/4\n"
   ]
  },
  {
   "cell_type": "code",
   "execution_count": null,
   "metadata": {},
   "outputs": [],
   "source": []
  },
  {
   "cell_type": "code",
   "execution_count": 66,
   "metadata": {},
   "outputs": [
    {
     "name": "stdout",
     "output_type": "stream",
     "text": [
      "0.9802955665024631\n",
      "0.8465116279069768\n",
      "0.7529411764705882\n",
      "0.7448979591836735\n",
      "0.8311615825159253\n"
     ]
    }
   ],
   "source": [
    "t_cm = np.array([[199,1,0,0],\n",
    " [2,182,0,16],\n",
    " [1,26,64,9],\n",
    " [1,6,21,73]\n",
    "])\n",
    "matrix = t_cm\n",
    "num_ = []\n",
    "for idx, maxt in enumerate(matrix.T):\n",
    "    num_.append(maxt[idx]/sum(maxt))\n",
    "    print(maxt[idx]/sum(maxt))\n",
    "print(np.mean(num_))# precision\n"
   ]
  },
  {
   "cell_type": "code",
   "execution_count": 67,
   "metadata": {},
   "outputs": [
    {
     "name": "stdout",
     "output_type": "stream",
     "text": [
      "84.2977785684635\n"
     ]
    }
   ],
   "source": [
    "recall = 85.52\n",
    "prec = 83.11\n",
    "\n",
    "f1 = (2*recall*prec)/(recall+prec)\n",
    "print(f1)"
   ]
  },
  {
   "cell_type": "code",
   "execution_count": null,
   "metadata": {},
   "outputs": [],
   "source": []
  },
  {
   "cell_type": "code",
   "execution_count": null,
   "metadata": {},
   "outputs": [],
   "source": []
  },
  {
   "cell_type": "code",
   "execution_count": null,
   "metadata": {},
   "outputs": [],
   "source": []
  },
  {
   "cell_type": "code",
   "execution_count": 12,
   "metadata": {},
   "outputs": [
    {
     "name": "stdout",
     "output_type": "stream",
     "text": [
      "Test set\n",
      "+--------+------+------+--------+--------------+------------------+\n",
      "| normal | lgd  | hgd  | cancer | Average loss | Average Accuracy |\n",
      "+--------+------+------+--------+--------------+------------------+\n",
      "|  1.0   | 0.91 | 0.65 |  0.79  |   0.012286   |      83.68       |\n",
      "+--------+------+------+--------+--------------+------------------+\n"
     ]
    }
   ],
   "source": [
    "ROOT_PATH = '/disk1/yjkim/jupyter/weight/intestine/hdcnn'\n",
    "MODEL_PATH = 'dens161'\n",
    "CLASS_PATH = '2_last2_7-12'\n",
    "NAME_PATH = '84.31_56.pt'\n",
    "\n",
    "\n",
    "PATH = os.path.join(ROOT_PATH,MODEL_PATH,CLASS_PATH,NAME_PATH)\n",
    "model = torch.load(PATH)\n",
    "\n",
    "# setting\n",
    "optimizer = optim.Adam(model.parameters(),lr = 0.000001)\n",
    "loss_func = nn.CrossEntropyLoss()\n",
    "\n",
    "test_eval = Evaluation(NAME_OF_CLASS,device)\n",
    "test_eval.test(model, loss_func, test_loader)"
   ]
  },
  {
   "cell_type": "code",
   "execution_count": 13,
   "metadata": {},
   "outputs": [
    {
     "name": "stdout",
     "output_type": "stream",
     "text": [
      "Test set\n",
      "+--------+------+------+--------+--------------+------------------+\n",
      "| normal | lgd  | hgd  | cancer | Average loss | Average Accuracy |\n",
      "+--------+------+------+--------+--------------+------------------+\n",
      "|  0.99  | 0.91 | 0.58 |  0.78  |   0.010646   |      81.43       |\n",
      "+--------+------+------+--------+--------------+------------------+\n"
     ]
    }
   ],
   "source": [
    "ROOT_PATH = '/disk1/yjkim/jupyter/weight/intestine/hdcnn'\n",
    "MODEL_PATH = 'dens161'\n",
    "CLASS_PATH = '2_last2_6-12'\n",
    "NAME_PATH = '83.66_33.pt'\n",
    "\n",
    "\n",
    "PATH = os.path.join(ROOT_PATH,MODEL_PATH,CLASS_PATH,NAME_PATH)\n",
    "model = torch.load(PATH)\n",
    "\n",
    "# setting\n",
    "optimizer = optim.Adam(model.parameters(),lr = 0.000001)\n",
    "loss_func = nn.CrossEntropyLoss()\n",
    "\n",
    "test_eval = Evaluation(NAME_OF_CLASS,device)\n",
    "test_eval.test(model, loss_func, test_loader)"
   ]
  },
  {
   "cell_type": "code",
   "execution_count": 14,
   "metadata": {},
   "outputs": [
    {
     "name": "stdout",
     "output_type": "stream",
     "text": [
      "Test set\n",
      "+--------+------+------+--------+--------------+------------------+\n",
      "| normal | lgd  | hgd  | cancer | Average loss | Average Accuracy |\n",
      "+--------+------+------+--------+--------------+------------------+\n",
      "|  1.0   | 0.93 | 0.63 |  0.76  |   0.009028   |      83.06       |\n",
      "+--------+------+------+--------+--------------+------------------+\n"
     ]
    }
   ],
   "source": [
    "ROOT_PATH = '/disk1/yjkim/jupyter/weight/intestine/hdcnn'\n",
    "MODEL_PATH = 'dens161'\n",
    "CLASS_PATH = '2_last2_5-12'\n",
    "NAME_PATH = '84.3_58.pt'\n",
    "\n",
    "\n",
    "PATH = os.path.join(ROOT_PATH,MODEL_PATH,CLASS_PATH,NAME_PATH)\n",
    "model = torch.load(PATH)\n",
    "\n",
    "# setting\n",
    "optimizer = optim.Adam(model.parameters(),lr = 0.000001)\n",
    "loss_func = nn.CrossEntropyLoss()\n",
    "\n",
    "test_eval = Evaluation(NAME_OF_CLASS,device)\n",
    "test_eval.test(model, loss_func, test_loader)"
   ]
  },
  {
   "cell_type": "code",
   "execution_count": 15,
   "metadata": {},
   "outputs": [
    {
     "name": "stdout",
     "output_type": "stream",
     "text": [
      "Test set\n",
      "+--------+------+------+--------+--------------+------------------+\n",
      "| normal | lgd  | hgd  | cancer | Average loss | Average Accuracy |\n",
      "+--------+------+------+--------+--------------+------------------+\n",
      "|  0.99  | 0.92 | 0.66 |  0.83  |   0.009467   |      84.92       |\n",
      "+--------+------+------+--------+--------------+------------------+\n"
     ]
    }
   ],
   "source": [
    "ROOT_PATH = '/disk1/yjkim/jupyter/weight/intestine/hdcnn'\n",
    "MODEL_PATH = 'dens161'\n",
    "CLASS_PATH = '2_last2_4-12'\n",
    "NAME_PATH = '84.91_108.pt'\n",
    "\n",
    "\n",
    "PATH = os.path.join(ROOT_PATH,MODEL_PATH,CLASS_PATH,NAME_PATH)\n",
    "model = torch.load(PATH)\n",
    "\n",
    "# setting\n",
    "optimizer = optim.Adam(model.parameters(),lr = 0.000001)\n",
    "loss_func = nn.CrossEntropyLoss()\n",
    "\n",
    "test_eval = Evaluation(NAME_OF_CLASS,device)\n",
    "test_eval.test(model, loss_func, test_loader)"
   ]
  },
  {
   "cell_type": "code",
   "execution_count": null,
   "metadata": {},
   "outputs": [],
   "source": []
  },
  {
   "cell_type": "code",
   "execution_count": 16,
   "metadata": {},
   "outputs": [
    {
     "name": "stdout",
     "output_type": "stream",
     "text": [
      "Test set\n",
      "+--------+------+------+--------+--------------+------------------+\n",
      "| normal | lgd  | hgd  | cancer | Average loss | Average Accuracy |\n",
      "+--------+------+------+--------+--------------+------------------+\n",
      "|  0.99  | 0.93 | 0.68 |  0.77  |   0.008958   |      84.43       |\n",
      "+--------+------+------+--------+--------------+------------------+\n"
     ]
    }
   ],
   "source": [
    "ROOT_PATH = '/disk1/yjkim/jupyter/weight/intestine/hdcnn'\n",
    "MODEL_PATH = 'dens161'\n",
    "CLASS_PATH = '2_fre_lastc2_6-12'\n",
    "NAME_PATH = '84.14_87.pt'\n",
    "\n",
    "\n",
    "PATH = os.path.join(ROOT_PATH,MODEL_PATH,CLASS_PATH,NAME_PATH)\n",
    "model = torch.load(PATH)\n",
    "\n",
    "# setting\n",
    "optimizer = optim.Adam(model.parameters(),lr = 0.000001)\n",
    "loss_func = nn.CrossEntropyLoss()\n",
    "\n",
    "test_eval = Evaluation(NAME_OF_CLASS,device)\n",
    "test_eval.test(model, loss_func, test_loader)"
   ]
  },
  {
   "cell_type": "code",
   "execution_count": 17,
   "metadata": {},
   "outputs": [
    {
     "name": "stdout",
     "output_type": "stream",
     "text": [
      "Test set\n",
      "+--------+-----+------+--------+--------------+------------------+\n",
      "| normal | lgd | hgd  | cancer | Average loss | Average Accuracy |\n",
      "+--------+-----+------+--------+--------------+------------------+\n",
      "|  0.99  | 0.9 | 0.61 |  0.79  |   0.009955   |      82.43       |\n",
      "+--------+-----+------+--------+--------------+------------------+\n"
     ]
    }
   ],
   "source": [
    "ROOT_PATH = '/disk1/yjkim/jupyter/weight/intestine/hdcnn'\n",
    "MODEL_PATH = 'dens161'\n",
    "CLASS_PATH = '2_fre_lastc2_5-12'\n",
    "NAME_PATH = '85.38_38.pt'\n",
    "\n",
    "\n",
    "PATH = os.path.join(ROOT_PATH,MODEL_PATH,CLASS_PATH,NAME_PATH)\n",
    "model = torch.load(PATH)\n",
    "\n",
    "# setting\n",
    "optimizer = optim.Adam(model.parameters(),lr = 0.000001)\n",
    "loss_func = nn.CrossEntropyLoss()\n",
    "\n",
    "test_eval = Evaluation(NAME_OF_CLASS,device)\n",
    "test_eval.test(model, loss_func, test_loader)"
   ]
  },
  {
   "cell_type": "code",
   "execution_count": 18,
   "metadata": {},
   "outputs": [
    {
     "name": "stdout",
     "output_type": "stream",
     "text": [
      "Test set\n",
      "+--------+-----+------+--------+--------------+------------------+\n",
      "| normal | lgd | hgd  | cancer | Average loss | Average Accuracy |\n",
      "+--------+-----+------+--------+--------------+------------------+\n",
      "|  0.99  | 0.9 | 0.61 |  0.83  |   0.008865   |      83.29       |\n",
      "+--------+-----+------+--------+--------------+------------------+\n"
     ]
    }
   ],
   "source": [
    "ROOT_PATH = '/disk1/yjkim/jupyter/weight/intestine/hdcnn'\n",
    "MODEL_PATH = 'dens161'\n",
    "CLASS_PATH = '2_fre_lastc2_4-12'\n",
    "NAME_PATH = '85.53_65.pt'\n",
    "\n",
    "\n",
    "PATH = os.path.join(ROOT_PATH,MODEL_PATH,CLASS_PATH,NAME_PATH)\n",
    "model = torch.load(PATH)\n",
    "\n",
    "# setting\n",
    "optimizer = optim.Adam(model.parameters(),lr = 0.000001)\n",
    "loss_func = nn.CrossEntropyLoss()\n",
    "\n",
    "test_eval = Evaluation(NAME_OF_CLASS,device)\n",
    "test_eval.test(model, loss_func, test_loader)"
   ]
  },
  {
   "cell_type": "code",
   "execution_count": null,
   "metadata": {},
   "outputs": [],
   "source": []
  },
  {
   "cell_type": "code",
   "execution_count": null,
   "metadata": {},
   "outputs": [],
   "source": []
  },
  {
   "cell_type": "code",
   "execution_count": null,
   "metadata": {},
   "outputs": [],
   "source": []
  },
  {
   "cell_type": "code",
   "execution_count": null,
   "metadata": {},
   "outputs": [],
   "source": []
  },
  {
   "cell_type": "code",
   "execution_count": null,
   "metadata": {},
   "outputs": [],
   "source": []
  },
  {
   "cell_type": "code",
   "execution_count": null,
   "metadata": {},
   "outputs": [],
   "source": []
  },
  {
   "cell_type": "code",
   "execution_count": null,
   "metadata": {},
   "outputs": [],
   "source": []
  },
  {
   "cell_type": "code",
   "execution_count": null,
   "metadata": {},
   "outputs": [],
   "source": []
  },
  {
   "cell_type": "code",
   "execution_count": 32,
   "metadata": {},
   "outputs": [],
   "source": [
    "class ResNet50Bottom(nn.Module):\n",
    "    def __init__(self, front_model, rear_model):\n",
    "        super(ResNet50Bottom, self).__init__()\n",
    "        front_layer = list(front_model.children())[:6]\n",
    "        rear_layer = list(rear_model.children())[6:9]\n",
    "        total_layer = front_layer + rear_layer + [nn.Linear(in_features=2048, out_features=4, bias=True)]\n",
    "        \n",
    "        self.features = nn.Sequential(*total_layer)\n",
    "        \n",
    "        del front_layer, rear_layer, total_layer\n",
    "        \n",
    "    def forward(self, x):\n",
    "        x = self.features[0](x)\n",
    "        x = self.features[1](x)\n",
    "        x = self.features[2](x)\n",
    "        x = self.features[3](x)\n",
    "        x = self.features[4](x)\n",
    "        \n",
    "        x = self.features[5](x)\n",
    "        x = self.features[6](x)\n",
    "        x = self.features[7](x)\n",
    "        x = self.features[8](x)\n",
    "        x = x.reshape(x.size(0), -1)\n",
    "        x = self.features[9](x)\n",
    "        \n",
    "        return x"
   ]
  },
  {
   "cell_type": "code",
   "execution_count": 25,
   "metadata": {},
   "outputs": [],
   "source": [
    "import torch.nn.functional as F\n",
    "\n",
    "class DensNet161Bottom(nn.Module):\n",
    "    def __init__(self, front_model, rear_model):\n",
    "        super(DensNet161Bottom, self).__init__()\n",
    "        front_layer = list(list(front_model.children())[0][:7]) # 7:D,T,D\n",
    "        rear_layer = list(list(rear_model.children())[0][7:12])\n",
    "        total_layer = front_layer + rear_layer + [nn.Linear(in_features=2208, out_features=4, bias=True)]\n",
    "        \n",
    "        self.features = nn.Sequential(*total_layer)\n",
    "        \n",
    "        del front_layer, rear_layer, total_layer\n",
    "        \n",
    "    def forward(self, x):\n",
    "        x = self.features[0](x) # Conv2d\n",
    "        x = self.features[1](x) # batchNorm2d\n",
    "        x = self.features[2](x) # ReLu\n",
    "        x = self.features[3](x) # maxPool2d\n",
    "        x = self.features[4](x) # _DenseBlock 1\n",
    "        \n",
    "        x = self.features[5](x) # _Transition 1\n",
    "        x = self.features[6](x) # _DenseBlock 2 \n",
    "        x = self.features[7](x) # _Transition 2\n",
    "        x = self.features[8](x) # _DenseBlock 3 \n",
    "        x = self.features[9](x) # _Transition 3\n",
    "        x = self.features[10](x)# _DensBlock 4\n",
    "        x = self.features[11](x)# batch normalize\n",
    "        \n",
    "        x = F.relu(x, inplace=True)\n",
    "        x = F.avg_pool2d(x, kernel_size=7).view(x.size(0), -1)\n",
    "        \n",
    "        x = self.features[12](x) # classifier\n",
    "        \n",
    "        return x\n",
    "    \n",
    "# x = self.features(x)\n",
    "# x = F.relu(x, inplace=True)\n",
    "# x = F.avg_pool2d(x, kernel_size=7).view(x.size(0), -1)\n",
    "# x = self.classifier(x)\n",
    "\n",
    "# x = nn.ReLU(inplace=True)(x)\n",
    "# x = F.avg_pool2d(x, 8)\n",
    "# x = x.view(-1,4)\n",
    "    \n",
    "# f = self.features(x)\n",
    "# f = F.relu(f, inplace=True)\n",
    "# f = F.avg_pool2d(f, kernel_size=7).view(f.size(0), -1)\n",
    "# y = self.classifier(f)\n"
   ]
  },
  {
   "cell_type": "markdown",
   "metadata": {},
   "source": [
    "## Method"
   ]
  },
  {
   "cell_type": "code",
   "execution_count": 3,
   "metadata": {},
   "outputs": [],
   "source": [
    "from yjlib.ShowResult import ShowResult\n",
    "import matplotlib.pyplot as plt\n",
    "%matplotlib inline\n",
    "from prettytable import PrettyTable\n",
    "\n",
    "class Evaluation():\n",
    "    \"\"\"Evaluation model\n",
    "    \n",
    "    init\n",
    "    ----\n",
    "    result dictionary\n",
    "        train loss and acc\n",
    "        test loss, acc, and classes add\n",
    "    \n",
    "    Methods\n",
    "    -------\n",
    "    train:\n",
    "    test:\n",
    "    reset_result:\n",
    "    save_result:\n",
    "    show_loss:\n",
    "    show_acc:\n",
    "    show_class_acc:\n",
    "    show_confusion_matrix:\n",
    "    show_roc:\n",
    "    show_heatmap:\n",
    "    \n",
    "    \n",
    "    \"\"\"\n",
    "    def __init__(self, NAME_OF_CLASS, device):\n",
    "        self.result = dict()\n",
    "        self.result[\"train_losses\"] = []\n",
    "        self.result[\"train_accuracyes\"] = []\n",
    "        \n",
    "        self.result[\"test_losses\"] = []\n",
    "        self.result[\"test_accuracyes\"] = []\n",
    "        self.result[\"test_class_acc\"] = []\n",
    "        \n",
    "        \n",
    "        self.result[\"test_label\"] = []\n",
    "        self.result[\"test_y_pred\"] = []\n",
    "        \n",
    "        self.device = device\n",
    "        self.showresult = ShowResult()\n",
    "        self.NAME_OF_CLASS = NAME_OF_CLASS\n",
    "        \n",
    "    # import tqdm\n",
    "    def train(self, model, optimizer,loss_func, data_loader, parallel_device_ids=[]):\n",
    "        \"\"\"Train for classification\n",
    "\n",
    "        Parameter\n",
    "        ---------\n",
    "        model: model\n",
    "        optimizer: optimizer\n",
    "        loss_func: loss_function\n",
    "        data_loader: data_loader\n",
    "        parallel_device_ids: [] Parallel device ids\n",
    "\n",
    "        \"\"\"\n",
    "\n",
    "        if len(parallel_device_ids) > 0 and torch.cuda.device_count() >= len(parallel_device_ids): \n",
    "            model = torch.nn.DataParallel(model)\n",
    "        elif torch.cuda.device_count() < len(parallel_device_ids): \n",
    "            print(\"ERROR: cuda.device < len(device_ids)\")\n",
    "\n",
    "        model.train()\n",
    "        model.to(self.device)\n",
    "\n",
    "        correct = 0\n",
    "\n",
    "        for batch_idx, (data, label) in enumerate(data_loader):\n",
    "            data, label = data.to(self.device), label.to(self.device)\n",
    "            data, label = Variable(data), Variable(label.long())\n",
    "\n",
    "            # zero the parameter gradients\n",
    "            optimizer.zero_grad() \n",
    "\n",
    "            # forward + backward + optimize\n",
    "            output = model(data)\n",
    "    #         _, output_index = torch.max(output,1)# output: [0,1,0,...], output_index: 1\n",
    "            output = output.type(torch.FloatTensor)\n",
    "            label = label.type(torch.LongTensor)\n",
    "            label = label.view(-1)\n",
    "\n",
    "            loss = loss_func(output, label)\n",
    "            \"\"\"\n",
    "            Input: (N,C) where C = number of classes\n",
    "            Target: (N) where each value is 0 <= targets[i] <= C-1\n",
    "            Output: scalar. If reduce is False, then (N) instead.\n",
    "            \"\"\"\n",
    "            loss.backward()\n",
    "            optimizer.step()\n",
    "            pred = output.max(1)[1] # get the index of the max log-probability\n",
    "            correct += list(torch.eq(pred,label)).count(1)\n",
    "\n",
    "        self.result[\"train_losses\"].append(loss.item())\n",
    "        self.result[\"train_accuracyes\"].append(100. * correct / len(data_loader.dataset))\n",
    "        print('Train set: Loss: {:.6f}  Accuracy: {}/{} Total_ACC: ({:.2f}%)'.format(\n",
    "            loss.item(),\n",
    "            correct,\n",
    "            len(data_loader.dataset),\n",
    "            100. * correct / len(data_loader.dataset)))\n",
    "    \n",
    "    # 2 classes\n",
    "    def test(self, model, loss_func, test_loader):\n",
    "        \"\"\"Classification test\n",
    "\n",
    "        Parameter\n",
    "        ---------\n",
    "\n",
    "\n",
    "        \"\"\"\n",
    "        model.eval()\n",
    "        model.to(self.device)\n",
    "        test_loss = 0\n",
    "        correct = 0\n",
    "\n",
    "        total_sample_counter = [0]* len(self.NAME_OF_CLASS)# 각 클래스별 sample 수를 counting\n",
    "        classes_correct_samples = [0]* len(self.NAME_OF_CLASS) # 각 클래별 맞는 sample 수\n",
    "\n",
    "        self.result[\"test_label\"] = torch.Tensor([]).type(torch.LongTensor) # dtype: torch.int64\n",
    "        self.result[\"test_y_pred\"] = torch.Tensor([]).type(torch.LongTensor) # dtype: torch.int64\n",
    "        \n",
    "        with torch.no_grad():\n",
    "            for idx,(data, label) in enumerate(test_loader):\n",
    "                data, label = data.to(self.device), label.to(self.device)\n",
    "                data, label = Variable(data), Variable(label.long())\n",
    "                output = model(data)\n",
    "                output = output.type(torch.FloatTensor)\n",
    "\n",
    "                label = label.type(torch.LongTensor)\n",
    "                label = label.view(-1) # dtype: torch.int64\n",
    "\n",
    "                test_loss += loss_func(output, label).item() # sum up batch loss\n",
    "\n",
    "                pred = output.max(1)[1] # get the index of the max log-probability # dtype: torch.int64\n",
    "\n",
    "                # 각 클래스별 데이터 총량 계산\n",
    "                for i in range(len(self.NAME_OF_CLASS)):\n",
    "                    total_sample_counter[i] += list(label).count(i)\n",
    "\n",
    "                # 맞는 전체 데이터 수 count\n",
    "                correct += list(torch.eq(pred,label)).count(1)\n",
    "                \n",
    "                self.result[\"test_label\"] = torch.cat((self.result[\"test_label\"], label), 0)\n",
    "                self.result[\"test_y_pred\"] = torch.cat((self.result[\"test_y_pred\"], pred), 0)\n",
    "\n",
    "                # 각 클래스별로 맞는 갯수\n",
    "                correct_indice = torch.eq(pred, label).nonzero().view(-1)\n",
    "                for i in range(len(self.NAME_OF_CLASS)):\n",
    "                    classes_correct_samples[i] += list(label[correct_indice]).count(i)\n",
    "\n",
    "        \n",
    "        \n",
    "        acc_dict = dict()\n",
    "        show_contents = []\n",
    "        # counting number of correct for each classes\n",
    "        for idx, name in enumerate(self.NAME_OF_CLASS):\n",
    "            acc_dict[name] = classes_correct_samples[idx]/total_sample_counter[idx]\n",
    "            show_contents.append(float(\"{0:.2f}\".format(classes_correct_samples[idx]/total_sample_counter[idx])))\n",
    "\n",
    "            \n",
    "        # evaluation number\n",
    "        acc_dict['average_acc'] = statistics.mean(acc_dict.values())\n",
    "#         acc_dict['precision'] =  # precision 삽입\n",
    "#         acc_dict['F-maeasure'] = # Multi class F-maeasure 삽입 예정 \n",
    "\n",
    "        self.result[\"test_class_acc\"].append(acc_dict)\n",
    "\n",
    "        test_loss /= len(test_loader.dataset)\n",
    "\n",
    "        self.result[\"test_losses\"].append(test_loss)\n",
    "        self.result[\"test_accuracyes\"].append(100. * acc_dict[\"average_acc\"])\n",
    "\n",
    "        show_title =  self.NAME_OF_CLASS + ['Average loss','Average Accuracy']\n",
    "        show_contents += [float(\"{0:.6f}\".format(test_loss)),\n",
    "                              float(\"{0:.2f}\".format(100. * acc_dict[\"average_acc\"]))]\n",
    "        self.__print_result(show_title,show_contents)\n",
    "                                 \n",
    "        del show_contents, show_title\n",
    "        \n",
    "    def __print_result(self, title=[],contents=[]):\n",
    "        print(\"Test set\")\n",
    "        assert len(title) == len(contents)\n",
    "                                 \n",
    "        # 클래스 별로 결과값 별로 pretty table 을 show\n",
    "        info_table = PrettyTable(title)\n",
    "        info_table.add_row(contents)\n",
    "        \n",
    "        print(info_table)\n",
    "\n",
    "    def reset_result(self):\n",
    "        \"\"\"Reset result\n",
    "        reset the result dictionary\n",
    "        \"\"\"\n",
    "        print(\"reset result dictionary\")\n",
    "        self.result = dict()\n",
    "        self.result[\"train_losses\"] = []\n",
    "        self.result[\"train_accuracyes\"] = []\n",
    "        \n",
    "        self.result[\"test_losses\"] = []\n",
    "        self.result[\"test_accuracyes\"] = []\n",
    "        self.result[\"test_class_acc\"] = []\n",
    "\n",
    "        self.result[\"test_label\"] = torch.Tensor([]).type(torch.LongTensor)\n",
    "        self.result[\"test_y_pred\"] = torch.Tensor([]).type(torch.LongTensor)\n",
    "        \n",
    "    def save_result(self, path):\n",
    "        \"\"\"Save result of acc and class acc\n",
    "        Parameter\n",
    "        --------\n",
    "        path: absolute path for saving\n",
    "        \"\"\"\n",
    "        print(\"saving result to csv\")\n",
    "        \n",
    "    def show_loss(self):\n",
    "        print(\"show loss\")\n",
    "        #loss\n",
    "        data_list = [[x / 100 for x in self.result['train_losses']],\n",
    "                     [x / 100 for x in self.result['test_losses']]]\n",
    "        title = 'Loss Plot'\n",
    "        ylabel = 'Loss'  \n",
    "        tag = ['train','test']\n",
    "        loc=  'best'\n",
    "        xlabel = 'epoch'\n",
    "\n",
    "        for i in range(len(data_list)):\n",
    "            plt.plot(data_list[i])\n",
    "\n",
    "        plt.legend(tag,loc=loc)\n",
    "        plt.title(title)\n",
    "        plt.ylabel(ylabel)\n",
    "        plt.xlabel(xlabel)\n",
    "        plt.show()\n",
    "        \n",
    "    def show_acc(self):\n",
    "        print(\"show acc\")\n",
    "        data_list = [[x / 100 for x in self.result['train_accuracyes']],\n",
    "                     [x / 100 for x in self.result['test_accuracyes']]]\n",
    "        title = 'Accuracy Plot'\n",
    "        ylabel = 'Accuracy'   \n",
    "        tag = ['train','test']\n",
    "        loc=  'best'\n",
    "        xlabel = 'epoch'\n",
    "\n",
    "        for i in range(len(data_list)):\n",
    "            plt.plot(data_list[i])\n",
    "\n",
    "        ylim = [0,1]\n",
    "        plt.legend(tag,loc=loc)\n",
    "        plt.title(title)\n",
    "        plt.ylabel(ylabel)\n",
    "        plt.xlabel(xlabel)\n",
    "        plt.ylim(ylim)\n",
    "        plt.show()\n",
    "        \n",
    "    def show_class_acc(self):\n",
    "        print(\"show class acc\")\n",
    "        \n",
    "        class_acc = dict()\n",
    "        for name in self.NAME_OF_CLASS:\n",
    "            class_acc[name] = []\n",
    "        \n",
    "        class_acc_result = []\n",
    "        \n",
    "        for dic in self.result[\"test_class_acc\"]:\n",
    "            # dictionary for each epoch\n",
    "            for name in self.NAME_OF_CLASS:\n",
    "                class_acc[name].append(dic[name])\n",
    "\n",
    "        # class accuracy\n",
    "        data_list = []\n",
    "        for name in self.NAME_OF_CLASS:\n",
    "            data_list.append(class_acc[name])\n",
    "            \n",
    "        title='Classes Accuracy'\n",
    "        ylabel='Accuracy'\n",
    "        # tag = ['Normal','lgd','hgd','cancer']a\n",
    "        tag = self.NAME_OF_CLASS\n",
    "\n",
    "        loc=  'best'\n",
    "        xlabel = 'epoch'\n",
    "\n",
    "        for i in range(len(data_list)):\n",
    "            plt.plot(data_list[i])\n",
    "\n",
    "        ylim = [0,1]\n",
    "        plt.legend(tag,loc=loc)\n",
    "        plt.title(title)\n",
    "        plt.ylabel(ylabel)\n",
    "        plt.xlabel(xlabel)\n",
    "        plt.ylim(ylim)\n",
    "        plt.show()\n",
    "        \n",
    "    def show_confusion_matrix(self):\n",
    "        print(\"show confusion matrix\")\n",
    "        self.cm = self.showresult.plot_confusion_matrix(self.NAME_OF_CLASS,\n",
    "                                 label=self.result[\"test_label\"], \n",
    "                                 predic=self.result[\"test_y_pred\"])\n",
    "        \n",
    "    def show_roc(self):\n",
    "        print(\"roc result\")\n",
    "        print(self.cm.T)\n",
    "#         cm = self.cm.T\n",
    "        \n",
    "        \n",
    "    \n",
    "    def show_heatmap(self, data_path):\n",
    "        \"\"\"\n",
    "        \n",
    "        \n",
    "        \"\"\"\n",
    "        print(\"show heatmap\")\n",
    "    def count_time(self):\n",
    "        \"\"\"\n",
    "        Calculate time\n",
    "        \n",
    "        \"\"\"\n",
    "        start_t = datetime.datetime.now()\n",
    "        \n",
    "# data loading\n",
    "from torch.utils.data import Dataset\n",
    "import torchvision.transforms.functional as FT\n",
    "from torchvision import transforms\n",
    "from yjlib.Data import DataLoader; \n",
    "from yjlib.prep.ImgPrep import ImgPrep \n",
    "from PIL import Image\n",
    "import json\n",
    "import scipy.misc # for saving \n",
    "\n",
    "class EndoDataset(Dataset):\n",
    "    def __init__(self, DATA_PATH, IMAGE_SIZE, split):\n",
    "        dataloader = DataLoader(datatype='img')\n",
    "        self.DATA_PATH = DATA_PATH\n",
    "        self.IMAGE_SIZE = IMAGE_SIZE\n",
    "        \n",
    "        self.imgPrep = ImgPrep() \n",
    "        \n",
    "\n",
    "        self.split = split.upper()\n",
    "        assert self.split in {'TRAIN','VAL', 'TEST'}\n",
    "\n",
    "        # Read data files\n",
    "        with open(os.path.join(DATA_PATH, self.split + '_images.json'), 'r') as j:\n",
    "            self.images = json.load(j) # image data pathes in file\n",
    "\n",
    "        with open(os.path.join(DATA_PATH, self.split + '_labels.json'), 'r') as j:\n",
    "            self.labels = json.load(j) # boxes and labels data pathes in file\n",
    "\n",
    "        assert len(self.images) == len(self.labels) # if do not match number of images with number of boxes and labels.\n",
    "        \n",
    "    def __getitem__(self, i):\n",
    "        \"\"\"getitem\n",
    "        Parameter\n",
    "        ---------\n",
    "        i: number of order data\n",
    "        \n",
    "        PIL(raw_image) -> array -> PIL -> Tensor(prep_image)\n",
    "        \n",
    "        \"\"\"\n",
    "        raw_image = Image.open(self.images[i], mode = 'r') # read PIL Image\n",
    "\n",
    "        # image processing\n",
    "        removed_image = self.imgPrep.remove_pad(np.array(raw_image))# convert PIL to array # remove pad\n",
    "        \n",
    "        # Transform\n",
    "        \n",
    "        \n",
    "        label = self.labels[i]\n",
    "        tensor_label = torch.FloatTensor([label])\n",
    "        \n",
    "        content_transform = transforms.Compose([transforms.Resize(self.IMAGE_SIZE),\n",
    "                                                transforms.ToTensor(), \n",
    "                                                transforms.Normalize([0,0,0],[1,1,1])])\n",
    "        \n",
    "        pil_image = Image.fromarray(removed_image) # Convert array to pil\n",
    "        prep_image = content_transform(pil_image) # transform needs PIL image\n",
    "        \n",
    "        del raw_image, removed_image, pil_image, label\n",
    "        \n",
    "        return prep_image, tensor_label\n",
    "    \n",
    "    \n",
    "    \n",
    "    def __len__(self):\n",
    "        return len(self.images)\n"
   ]
  },
  {
   "cell_type": "code",
   "execution_count": null,
   "metadata": {},
   "outputs": [],
   "source": []
  }
 ],
 "metadata": {
  "kernelspec": {
   "display_name": "Python 3",
   "language": "python",
   "name": "python3"
  },
  "language_info": {
   "codemirror_mode": {
    "name": "ipython",
    "version": 3
   },
   "file_extension": ".py",
   "mimetype": "text/x-python",
   "name": "python",
   "nbconvert_exporter": "python",
   "pygments_lexer": "ipython3",
   "version": "3.6.8"
  }
 },
 "nbformat": 4,
 "nbformat_minor": 2
}
