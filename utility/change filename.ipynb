{
 "cells": [
  {
   "cell_type": "code",
   "execution_count": null,
   "metadata": {},
   "outputs": [],
   "source": [
    "import os\n",
    "import glob\n",
    "import numpy as np\n",
    "import pandas as pd\n",
    "from pandas import DataFrame, Series"
   ]
  },
  {
   "cell_type": "code",
   "execution_count": null,
   "metadata": {},
   "outputs": [],
   "source": [
    "for p in pathes:\n",
    "    if len(p[46:]) == 2:\n",
    "        print(p,'two')\n",
    "        # 두개 자리\n",
    "        for p in glob.glob(os.path.join(p,'*')):\n",
    "            change = p[:49]+'{:05d}.jpg'.format(int(p[61:-4]))\n",
    "            os.rename(p,change)\n",
    "    elif len(p[46:]) == 3:\n",
    "        print(p,'three')\n",
    "        for p in glob.glob(os.path.join(p,'*')):\n",
    "            change = p[:50]+'{:05d}.jpg'.format(int(p[63:-4]))\n",
    "            os.rename(p,change)\n",
    "        \n"
   ]
  },
  {
   "cell_type": "code",
   "execution_count": null,
   "metadata": {},
   "outputs": [],
   "source": []
  },
  {
   "cell_type": "code",
   "execution_count": null,
   "metadata": {},
   "outputs": [],
   "source": []
  }
 ],
 "metadata": {
  "kernelspec": {
   "display_name": "Python 3",
   "language": "python",
   "name": "python3"
  },
  "language_info": {
   "codemirror_mode": {
    "name": "ipython",
    "version": 3
   },
   "file_extension": ".py",
   "mimetype": "text/x-python",
   "name": "python",
   "nbconvert_exporter": "python",
   "pygments_lexer": "ipython3",
   "version": "3.6.8"
  }
 },
 "nbformat": 4,
 "nbformat_minor": 2
}
