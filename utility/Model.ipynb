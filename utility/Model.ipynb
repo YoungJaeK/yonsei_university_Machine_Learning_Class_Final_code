{
 "cells": [
  {
   "cell_type": "code",
   "execution_count": 1,
   "metadata": {},
   "outputs": [],
   "source": [
    "from torchvision import models"
   ]
  },
  {
   "cell_type": "markdown",
   "metadata": {},
   "source": [
    "## Path"
   ]
  },
  {
   "cell_type": "code",
   "execution_count": null,
   "metadata": {},
   "outputs": [],
   "source": [
    "NAME_OF_CLASS = ['normal','abnormal'] # This name same with name of file\n",
    "JSON_PATH = '/disk1/yjkim/json/intestine/c2json'\n",
    "SAVE_ROOT_PATH = '/disk1/yjkim/jupyter/weight/intestine/c2dens/'"
   ]
  },
  {
   "cell_type": "code",
   "execution_count": null,
   "metadata": {},
   "outputs": [],
   "source": [
    "NAME_OF_CLASS = ['hgd','cancer']\n",
    "JSON_PATH = '/disk1/yjkim/json/intestine/c2json'\n",
    "SAVE_ROOT_PATH = '/disk1/yjkim/jupyter/weight/intestine/c2dens/'"
   ]
  },
  {
   "cell_type": "code",
   "execution_count": null,
   "metadata": {},
   "outputs": [],
   "source": [
    "NAME_OF_CLASS = ['normal','lgd','hgd_cancer'] # This name same with name of file\n",
    "JSON_PATH = '/disk1/yjkim/json/intestine/c3json'\n",
    "SAVE_ROOT_PATH = '/disk1/yjkim/jupyter/weight/intestine/c3xcep/'"
   ]
  },
  {
   "cell_type": "code",
   "execution_count": null,
   "metadata": {},
   "outputs": [],
   "source": [
    "NAME_OF_CLASS = ['normal','lgd','hgd','cancer'] # This name same with name of file\n",
    "JSON_PATH = '/disk1/yjkim/json/intestine/c4json'\n",
    "SAVE_ROOT_PATH = '/disk1/yjkim/jupyter/weight/intestine/c4xcep/'"
   ]
  },
  {
   "cell_type": "markdown",
   "metadata": {},
   "source": [
    "## Xception"
   ]
  },
  {
   "cell_type": "code",
   "execution_count": null,
   "metadata": {},
   "outputs": [],
   "source": [
    "IMG_SIZE = 299"
   ]
  },
  {
   "cell_type": "code",
   "execution_count": null,
   "metadata": {},
   "outputs": [],
   "source": [
    "# xception\n",
    "import xception as xception\n",
    "xcep = xception\n",
    "model = xcep.xception()\n",
    "model.last_linear = nn.Linear(in_features=2048, out_features=len(NAME_OF_CLASS), bias=True)\n",
    "\n",
    "# settting\n",
    "optimizer = optim.SGD(model.parameters(),lr = 0.045,momentum=0.9)\n",
    "loss_func = nn.CrossEntropyLoss()"
   ]
  },
  {
   "cell_type": "markdown",
   "metadata": {},
   "source": [
    "## densenet161"
   ]
  },
  {
   "cell_type": "code",
   "execution_count": null,
   "metadata": {},
   "outputs": [],
   "source": [
    "IMG_SIZE = 224"
   ]
  },
  {
   "cell_type": "code",
   "execution_count": null,
   "metadata": {},
   "outputs": [],
   "source": [
    "# densenet161\n",
    "model = models.densenet161(pretrained=True)\n",
    "model.classifier = nn.Linear(in_features = 2208, out_features = len(NAME_OF_CLASS))\n",
    "# setting\n",
    "optimizer = optim.Adam(model.parameters(), lr=0.00001)\n",
    "loss_func = torch.nn.CrossEntropyLoss()  "
   ]
  },
  {
   "cell_type": "markdown",
   "metadata": {},
   "source": [
    "## VGG"
   ]
  },
  {
   "cell_type": "code",
   "execution_count": null,
   "metadata": {},
   "outputs": [],
   "source": [
    "IMG_SIZE = 224"
   ]
  },
  {
   "cell_type": "code",
   "execution_count": null,
   "metadata": {},
   "outputs": [],
   "source": [
    "# vgg16\n",
    "model = models.vgg16(pretrained=True)\n",
    "model.classifier[6] = nn.Linear(in_features=4096, out_features=len(NAME_OF_CLASS), bias=True)\n",
    "# setting\n",
    "optimizer = optim.Adam(model.parameters(),lr = 0.00001)\n",
    "loss_func = nn.CrossEntropyLoss()"
   ]
  },
  {
   "cell_type": "markdown",
   "metadata": {},
   "source": [
    "### ResNet50"
   ]
  },
  {
   "cell_type": "code",
   "execution_count": null,
   "metadata": {},
   "outputs": [],
   "source": [
    "IMG_SIZE = 224"
   ]
  },
  {
   "cell_type": "code",
   "execution_count": null,
   "metadata": {},
   "outputs": [],
   "source": [
    "# ResNet50\n",
    "model = models.resnet50(pretrained=True)\n",
    "model.fc = nn.Linear(in_features=2048, out_features=len(NAME_OF_CLASS), bias=True)\n",
    "# setting\n",
    "optimizer = optim.Adam(model.parameters(),lr = 0.00001)\n",
    "loss_func = nn.CrossEntropyLoss()"
   ]
  },
  {
   "cell_type": "code",
   "execution_count": null,
   "metadata": {},
   "outputs": [],
   "source": []
  },
  {
   "cell_type": "code",
   "execution_count": null,
   "metadata": {},
   "outputs": [],
   "source": []
  },
  {
   "cell_type": "code",
   "execution_count": null,
   "metadata": {},
   "outputs": [],
   "source": []
  },
  {
   "cell_type": "code",
   "execution_count": null,
   "metadata": {},
   "outputs": [],
   "source": []
  },
  {
   "cell_type": "markdown",
   "metadata": {},
   "source": [
    "# Architecture"
   ]
  },
  {
   "cell_type": "markdown",
   "metadata": {},
   "source": [
    "## Freeze\n",
    "requires_grad which is by default True. \n",
    "True means it will be backpropagrated and hence to freeze a layer \n",
    "you need to set requires_grad to False for all parameters of a layer. \n",
    "\n",
    "model_ft = models.resnet50(pretrained=True)\n",
    "\n",
    "ct = 0\n",
    "\n",
    "for child in model_ft.children():\n",
    "\n",
    "ct += 1\n",
    "\n",
    "if ct < 7:\n",
    "\n",
    "    for param in child.parameters():\n",
    "    \n",
    "        param.requires_grad = False\n",
    "        \n",
    "        \n",
    "URL:https://discuss.pytorch.org/t/how-the-pytorch-freeze-network-in-some-layers-only-the-rest-of-the-training/7088"
   ]
  },
  {
   "cell_type": "code",
   "execution_count": null,
   "metadata": {},
   "outputs": [],
   "source": [
    "for child in load_res_2.children():\n",
    "    for param in child.parameters():\n",
    "        param.requires_grad = False"
   ]
  },
  {
   "cell_type": "markdown",
   "metadata": {},
   "source": [
    "## ResNet50\n",
    " 0. conv\n",
    " 1. BatchNorm\n",
    " 2. ReLU\n",
    " 3. max pooling\n",
    " 4. block\n",
    "\n",
    " 5. block\n",
    " 6. block\n",
    " 7. block\n",
    " 8. avg pooling\n",
    " 9. Linear"
   ]
  },
  {
   "cell_type": "code",
   "execution_count": null,
   "metadata": {},
   "outputs": [],
   "source": [
    "class ResNet50Bottom(nn.Module):\n",
    "    def __init__(self, front_model, rear_model):\n",
    "        super(ResNet50Bottom, self).__init__()\n",
    "        front_layer = list(front_model.children())[:6]\n",
    "        rear_layer = list(rear_model.children())[6:9]\n",
    "        total_layer = front_layer + rear_layer + [nn.Linear(in_features=2048, out_features=4, bias=True)]\n",
    "        \n",
    "        self.features = nn.Sequential(*total_layer)\n",
    "        \n",
    "        del front_layer, rear_layer, total_layer\n",
    "        \n",
    "    def forward(self, x):\n",
    "        x = self.features[0](x)\n",
    "        x = self.features[1](x)\n",
    "        x = self.features[2](x)\n",
    "        x = self.features[3](x)\n",
    "        x = self.features[4](x)\n",
    "        \n",
    "        x = self.features[5](x)\n",
    "        x = self.features[6](x)\n",
    "        x = self.features[7](x)\n",
    "        x = self.features[8](x)\n",
    "        x = x.reshape(x.size(0), -1)\n",
    "        x = self.features[9](x)\n",
    "        \n",
    "        return x"
   ]
  },
  {
   "cell_type": "markdown",
   "metadata": {},
   "source": [
    "## DensNet161\n",
    "\n",
    "0. conv\n",
    "1. BatchNorm2d\n",
    "2. ReLU\n",
    "3. MaxPool2d\n",
    "4. _DenseBlock\n",
    "\n",
    "5. _Transition\n",
    "6. _DenseBlock\n",
    "7. _Transition\n",
    "8. _DenseBlock\n",
    "9. _Transition\n",
    "10. _DenseBlock\n",
    "11. BatchNorm2d\n",
    "12. Linear"
   ]
  },
  {
   "cell_type": "code",
   "execution_count": 2,
   "metadata": {},
   "outputs": [
    {
     "data": {
      "text/plain": [
       "[1, 2, 3, 4, 5]"
      ]
     },
     "execution_count": 2,
     "metadata": {},
     "output_type": "execute_result"
    }
   ],
   "source": [
    "list([1,2,3,4,5,6,7])[:5]"
   ]
  },
  {
   "cell_type": "code",
   "execution_count": null,
   "metadata": {},
   "outputs": [],
   "source": []
  },
  {
   "cell_type": "code",
   "execution_count": null,
   "metadata": {},
   "outputs": [],
   "source": []
  },
  {
   "cell_type": "code",
   "execution_count": null,
   "metadata": {},
   "outputs": [],
   "source": []
  },
  {
   "cell_type": "code",
   "execution_count": null,
   "metadata": {},
   "outputs": [],
   "source": []
  },
  {
   "cell_type": "code",
   "execution_count": null,
   "metadata": {},
   "outputs": [],
   "source": []
  },
  {
   "cell_type": "code",
   "execution_count": null,
   "metadata": {},
   "outputs": [],
   "source": []
  },
  {
   "cell_type": "code",
   "execution_count": null,
   "metadata": {},
   "outputs": [],
   "source": []
  },
  {
   "cell_type": "code",
   "execution_count": null,
   "metadata": {},
   "outputs": [],
   "source": []
  },
  {
   "cell_type": "code",
   "execution_count": null,
   "metadata": {},
   "outputs": [],
   "source": []
  },
  {
   "cell_type": "code",
   "execution_count": null,
   "metadata": {},
   "outputs": [],
   "source": []
  },
  {
   "cell_type": "code",
   "execution_count": null,
   "metadata": {},
   "outputs": [],
   "source": []
  }
 ],
 "metadata": {
  "kernelspec": {
   "display_name": "Python 3",
   "language": "python",
   "name": "python3"
  },
  "language_info": {
   "codemirror_mode": {
    "name": "ipython",
    "version": 3
   },
   "file_extension": ".py",
   "mimetype": "text/x-python",
   "name": "python",
   "nbconvert_exporter": "python",
   "pygments_lexer": "ipython3",
   "version": "3.6.8"
  }
 },
 "nbformat": 4,
 "nbformat_minor": 2
}
