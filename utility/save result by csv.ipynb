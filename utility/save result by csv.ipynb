{
 "cells": [
  {
   "cell_type": "code",
   "execution_count": null,
   "metadata": {},
   "outputs": [],
   "source": [
    "from pandas import DataFrame\n",
    "\n",
    "class_acc = dict()\n",
    "COL_NAME = list(eval_model.result[\"test_class_acc\"][0].keys())\n",
    "for name in COL_NAME:\n",
    "    class_acc[name] = []\n",
    "\n",
    "class_acc_result = []\n",
    "\n",
    "for dic in eval_model.result[\"test_class_acc\"]:\n",
    "    # dictionary for each epoch\n",
    "    for name in COL_NAME:\n",
    "        class_acc[name].append(dic[name])\n",
    "\n",
    "# class accuracy\n",
    "data_list = []\n",
    "for name in COL_NAME:\n",
    "    data_list.append(class_acc[name])\n",
    "\n",
    "df = DataFrame.from_dict({COL_NAME[0]:data_list[0],\n",
    "                          COL_NAME[1]:data_list[1],\n",
    "                          COL_NAME[2]:data_list[2],\n",
    "                          COL_NAME[3]:data_list[3],\n",
    "                          COL_NAME[4]:data_list[4]})\n",
    "df.to_csv(SAVE_ROOT_PATH + '2_fre_lastc2_4-12.csv')"
   ]
  },
  {
   "cell_type": "code",
   "execution_count": null,
   "metadata": {},
   "outputs": [],
   "source": []
  },
  {
   "cell_type": "code",
   "execution_count": null,
   "metadata": {},
   "outputs": [],
   "source": []
  },
  {
   "cell_type": "code",
   "execution_count": null,
   "metadata": {},
   "outputs": [],
   "source": []
  },
  {
   "cell_type": "code",
   "execution_count": null,
   "metadata": {},
   "outputs": [],
   "source": []
  },
  {
   "cell_type": "code",
   "execution_count": null,
   "metadata": {},
   "outputs": [],
   "source": []
  },
  {
   "cell_type": "code",
   "execution_count": null,
   "metadata": {},
   "outputs": [],
   "source": []
  }
 ],
 "metadata": {
  "kernelspec": {
   "display_name": "Python 3",
   "language": "python",
   "name": "python3"
  },
  "language_info": {
   "codemirror_mode": {
    "name": "ipython",
    "version": 3
   },
   "file_extension": ".py",
   "mimetype": "text/x-python",
   "name": "python",
   "nbconvert_exporter": "python",
   "pygments_lexer": "ipython3",
   "version": "3.6.8"
  }
 },
 "nbformat": 4,
 "nbformat_minor": 2
}
